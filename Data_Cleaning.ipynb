{
  "nbformat": 4,
  "nbformat_minor": 0,
  "metadata": {
    "colab": {
      "provenance": [],
      "authorship_tag": "ABX9TyPNOzE80fg0cBcGPmf+Z/hN",
      "include_colab_link": true
    },
    "kernelspec": {
      "name": "python3",
      "display_name": "Python 3"
    },
    "language_info": {
      "name": "python"
    }
  },
  "cells": [
    {
      "cell_type": "markdown",
      "metadata": {
        "id": "view-in-github",
        "colab_type": "text"
      },
      "source": [
        "<a href=\"https://colab.research.google.com/github/ananya2-star/Data-cleaning/blob/main/Data_Cleaning.ipynb\" target=\"_parent\"><img src=\"https://colab.research.google.com/assets/colab-badge.svg\" alt=\"Open In Colab\"/></a>"
      ]
    },
    {
      "cell_type": "code",
      "execution_count": null,
      "metadata": {
        "colab": {
          "base_uri": "https://localhost:8080/"
        },
        "id": "ua9nKvMoekYy",
        "outputId": "84508d16-427e-42f3-d8aa-957b7d4f8a6e"
      },
      "outputs": [
        {
          "output_type": "stream",
          "name": "stdout",
          "text": [
            "Collecting feedparser\n",
            "  Downloading feedparser-6.0.11-py3-none-any.whl.metadata (2.4 kB)\n",
            "Requirement already satisfied: pandas in /usr/local/lib/python3.11/dist-packages (2.2.2)\n",
            "Collecting sgmllib3k (from feedparser)\n",
            "  Downloading sgmllib3k-1.0.0.tar.gz (5.8 kB)\n",
            "  Preparing metadata (setup.py) ... \u001b[?25l\u001b[?25hdone\n",
            "Requirement already satisfied: numpy>=1.23.2 in /usr/local/lib/python3.11/dist-packages (from pandas) (1.26.4)\n",
            "Requirement already satisfied: python-dateutil>=2.8.2 in /usr/local/lib/python3.11/dist-packages (from pandas) (2.8.2)\n",
            "Requirement already satisfied: pytz>=2020.1 in /usr/local/lib/python3.11/dist-packages (from pandas) (2025.1)\n",
            "Requirement already satisfied: tzdata>=2022.7 in /usr/local/lib/python3.11/dist-packages (from pandas) (2025.1)\n",
            "Requirement already satisfied: six>=1.5 in /usr/local/lib/python3.11/dist-packages (from python-dateutil>=2.8.2->pandas) (1.17.0)\n",
            "Downloading feedparser-6.0.11-py3-none-any.whl (81 kB)\n",
            "\u001b[2K   \u001b[90m━━━━━━━━━━━━━━━━━━━━━━━━━━━━━━━━━━━━━━━━\u001b[0m \u001b[32m81.3/81.3 kB\u001b[0m \u001b[31m2.2 MB/s\u001b[0m eta \u001b[36m0:00:00\u001b[0m\n",
            "\u001b[?25hBuilding wheels for collected packages: sgmllib3k\n",
            "  Building wheel for sgmllib3k (setup.py) ... \u001b[?25l\u001b[?25hdone\n",
            "  Created wheel for sgmllib3k: filename=sgmllib3k-1.0.0-py3-none-any.whl size=6047 sha256=6b5edaf9d23c884464a926ac55a301d4030a61ca2e03123856ea5067908e49d9\n",
            "  Stored in directory: /root/.cache/pip/wheels/3b/25/2a/105d6a15df6914f4d15047691c6c28f9052cc1173e40285d03\n",
            "Successfully built sgmllib3k\n",
            "Installing collected packages: sgmllib3k, feedparser\n",
            "Successfully installed feedparser-6.0.11 sgmllib3k-1.0.0\n"
          ]
        }
      ],
      "source": [
        "pip install feedparser pandas"
      ]
    },
    {
      "cell_type": "code",
      "source": [
        "pip install feedparser"
      ],
      "metadata": {
        "colab": {
          "base_uri": "https://localhost:8080/"
        },
        "id": "JhaBki19e8xp",
        "outputId": "af9d18e8-7d3f-4312-f079-e8ee419f51dd"
      },
      "execution_count": null,
      "outputs": [
        {
          "output_type": "stream",
          "name": "stdout",
          "text": [
            "Requirement already satisfied: feedparser in /usr/local/lib/python3.11/dist-packages (6.0.11)\n",
            "Requirement already satisfied: sgmllib3k in /usr/local/lib/python3.11/dist-packages (from feedparser) (1.0.0)\n"
          ]
        }
      ]
    },
    {
      "cell_type": "code",
      "source": [
        "import feedparser\n",
        "\n",
        "rss_url = \"https://news.google.com/rss/search?q=Artificial+Intelligence\"\n",
        "feed = feedparser.parse(rss_url)\n",
        "\n",
        "for entry in feed.entries[:10]:\n",
        "    print(entry.title, entry.link)"
      ],
      "metadata": {
        "colab": {
          "base_uri": "https://localhost:8080/"
        },
        "id": "vB7ryjnzfIES",
        "outputId": "c07eef64-8448-4dc4-ea68-120b61c23fb2"
      },
      "execution_count": null,
      "outputs": [
        {
          "output_type": "stream",
          "name": "stdout",
          "text": [
            "Artificial intelligence for modelling infectious disease epidemics - Nature.com https://news.google.com/rss/articles/CBMiX0FVX3lxTE83N2VDMzdoOElXLTc0UGZyTzhnNlN3TTlrbkxyS3ZqNXNFdzZzLXBPWG9YVDVmRm1nRGJaRW8ycDNOYzVoNFczQUlDRGlzeUZ5MEFYWUtKVkpEdzRDYmlR?oc=5\n",
            "A New Artificial Intelligence (AI) Revolution Is Coming. 3 Stocks to Buy Before It Changes the Entire Economy - The Motley Fool https://news.google.com/rss/articles/CBMimAFBVV95cUxNQ2Fua1F6ZlFtSER6RFB3VzV0UG05VFluOE5aUkdUQ1p5OFJtN0tvU2dZTGpnVTBTMTE5T1hneUN4NE5zbHZCY3NJcnlEN1ZVUm8zblU1TE1SYkRVeC1oVF9UTnliVDIzS0VCZi1yZjBWc2wtWlhzc2FSNFZkcXJNUUpLWVhmT0F2NXhuYWhKelJ1aHdXd1F6cw?oc=5\n",
            "Is artificial intelligence making us more stupid? - Yahoo https://news.google.com/rss/articles/CBMihwFBVV95cUxOSk5Ncm9jMDRJelA4ekpQN2RYbER5ckd6dmdXSGh5c0ZsRDdyYUpHUFBibXd4QjlSX3ZwZkV5RVNTN1dHQ1NrN3BwYmwzQTVvWDdXR2VTREtSSTlqZ010S3JwaGlpZkptQzMzVENwOFFfU1NBSHFoU1V2ZWhtdERybzZrNFRKLVU?oc=5\n",
            "How India’s rich philosophical traditions can help it lead the way in AI - The Indian Express https://news.google.com/rss/articles/CBMiygFBVV95cUxPeElPQWlTNG9RT1lTZV84a1RxU0JGSEUzanZaNzY2SDhEa2RPejJheEJlN0tyQ2tsU3Y4ZHQ0YTJXeUVZRmN5amlNeDZxTk1CeUoyeVhnbngtMExOUUs0ZmV6THd3WGtvdENELVB5dHV6NHd4ZGw1ZVEycUVETFdpd3pSUHB6TWh2RUVOcngtbG1Md29LVUEtT0phaE1tdmgya0xLazRwUzRfSFJyOGRKOTYtSVE2R0hZSkZ2MU4tRnlTb2VLdnhuX2Fn0gHQAUFVX3lxTE5rQ3puNFJjanJ3S1pqTm9YRjdfczBvX1pMcE5sY0w0WmpjR1l2VDhiWXcybmloQjR3cnJpNmZ2Tmk0b2Rud0R5bkJGblhrS1lSZi1KT1ZzS2k0aEZJc2VlYmUwWHBOSDdiZ1liYWdHTGRMZGQzR3otSTFwTGk2NEJxWGxPVEdJZXFHQmEzRm41QkRKM1I2Wl9mV0luMDZVSU5PM2t0YXliQTJ4ZUJmTldyRXpnSUdlZGRwNWdxNmpPb2tkb3NSdnJjOVBBbVc2akE?oc=5\n",
            "Explainable artificial intelligence of DNA methylation-based brain tumor diagnostics - Nature.com https://news.google.com/rss/articles/CBMiX0FVX3lxTE5WcDFoUnlzOGhvNmd2dFJjZjgxbjczdXZXdFRyRDl1cV94Q1FET2hPYndrNmtsU2Z6d0VzaF9aMC03cVMyQnhLdFNRRWlNUnNpLXVFWXNWMjhGMlQ5VUFV?oc=5\n",
            "Costco expands travel benefit by rolling out artificial intelligence to members - Fox News https://news.google.com/rss/articles/CBMipwFBVV95cUxNMnA4b0RIZWl2MmVHV1B5WHd0cENyOUFiWGl2YWViOXFaa0xDdmQxTUwzMzJCTjlBZkdSODV5cnNwVk1YeGxlWFJfcU1IWG9rX2REbE51eUEtMWpUem1NQndsZElJVmJmVW8ydFN4NjEzLWtlNGtlczVHcUtSbGRQc2xTZVNSa0tEQVF1RXAyTmRYQlM5NzhReERsZ0J5ZUxQVUlmZUlCb9IBrAFBVV95cUxNREhiLTNYTGVXVk90TnRhYTRpZk5DNWRKdVJoQTV0WklGX0lmRmtLY19LTVhqb0pneGNieXdiQjNGdVBuczdtOFFuWkl4R3pBTDN2WVFEQTNlSnM3ZVkxeHFCY1BSallaeU56V2JsRjV5VzNWS2U0RlF6V0dXRWEzTFRQOVoxbExRd0lFSTd2bnhHdWNzSm1PejM5cHJIcVNIOWJxLUs5SmxSRHlU?oc=5\n",
            "Nvidia Just Bought These 2 Artificial Intelligence (AI) Stocks. Should You? - Nasdaq https://news.google.com/rss/articles/CBMipgFBVV95cUxNcEd3YUEzNW8wTGF6WTBvUXkxblI5VGd6YmMyUi1ESV9HdVFEYzhMWHFrZjU0elZhQTFCZkNLNEZKLWQyTTMtRWhBeS1wY0t0VzZmQVUwYnpZcXdiM0hhV19reEs2NTN1S3M5b2VxM2JZYmpweFdPUER1cE5IeTk0N1d0aUgteVhjWktTdDR0U0V1a1JFMF9OMWx6T1JNb3E1bDFDYUZn?oc=5\n",
            "Apple unveils a souped-up and more expensive version of its lowest priced iPhone - The Associated Press https://news.google.com/rss/articles/CBMiqAFBVV95cUxOQXNQQ2RMYVhpR3FiTldPZnh0SzVHdnZOeWZnTl91ZG12dERnN0djNjNlWUNrRlpUMGRRQ2M1M1lHWGV1eXUwQjhYSnY1NVpoa1BBNG13RDRsbGJzT2ZtV0NCV2taeFliV0ZaSlhfVUpObmF2T09DdE1ZUUU1YnprMDFGalFwSGFUN0llNmE4MVdaQ3V4XzEwM0FsWGZwSmoyMVBkbldHcVg?oc=5\n",
            "Apple Unveils Lower-Priced iPhone 16e With A.I. Features - The New York Times https://news.google.com/rss/articles/CBMid0FVX3lxTFBLSGNERkFjNnhRTUFNUTBiSGF0aGoxSFp1bWN3NXU1VGpCUXhrNlRDby03YmhiYVpzWGViaU9LTExtNHVYNzhLRWpiNUNTX1Nxb2pMY2p3dFJnSVRGb0VOdXVwWjdIX2VITVdKRTFNYmpSVC1zYkdr?oc=5\n",
            "iPhone 16e: Apple gambles on AI features at lower cost - BBC.com https://news.google.com/rss/articles/CBMiWkFVX3lxTE5zN09LOGlqSlZ2QWZQVXp2V0FjeUtYSV9KcmUtM3VGLW1KVk1jdnhYVFJlUWMtaml0ejNnNkJNN0E4Mjg2a29yTm9raHNoNHdRNnRMVUxxQk1wQdIBX0FVX3lxTFBkMnk5NDhzekJwSW14V0pUeUJLdkw0VGs1T1ptTU9JVkhFWFdRVldoZ0dJdGszMnY1R3VJM0FVVi1aQm9jbjZKZU50eFNfelRsRVpCZ1VwSzJDWG1HZ3hZ?oc=5\n"
          ]
        }
      ]
    },
    {
      "cell_type": "code",
      "source": [
        "import feedparser\n",
        "import pandas as pd\n",
        "\n",
        "# Google News RSS feed (change the query as needed)\n",
        "rss_url = \"https://news.google.com/rss/search?q=Artificial+Intelligence\"\n",
        "\n",
        "# Parse the RSS feed\n",
        "feed = feedparser.parse(rss_url)\n",
        "\n",
        "#Extract relevant data\n",
        "news_data = []\n",
        "for entry in feed.entries:\n",
        "    news_data.append([entry.title, entry.link, entry.published])\n",
        "\n",
        "# Save to CSP\n",
        "df = pd.DataFrame(news_data, columns=['Title', 'URL', 'Published Date'])\n",
        "df.to_csv(\"news_data.csv\", index=False)\n",
        "\n",
        "#Load and display the first few rows\n",
        "df = pd.read_csv(\"news_data.csv\")\n",
        "print(df.head())"
      ],
      "metadata": {
        "colab": {
          "base_uri": "https://localhost:8080/"
        },
        "id": "7kQN3HORhZLd",
        "outputId": "11b30f99-b96c-41ce-ba80-c5cf9d515017"
      },
      "execution_count": null,
      "outputs": [
        {
          "output_type": "stream",
          "name": "stdout",
          "text": [
            "                                               Title  \\\n",
            "0  Artificial intelligence for modelling infectio...   \n",
            "1  A New Artificial Intelligence (AI) Revolution ...   \n",
            "2  Is artificial intelligence making us more stup...   \n",
            "3  Explainable artificial intelligence of DNA met...   \n",
            "4  Costco expands travel benefit by rolling out a...   \n",
            "\n",
            "                                                 URL  \\\n",
            "0  https://news.google.com/rss/articles/CBMiX0FVX...   \n",
            "1  https://news.google.com/rss/articles/CBMimAFBV...   \n",
            "2  https://news.google.com/rss/articles/CBMihwFBV...   \n",
            "3  https://news.google.com/rss/articles/CBMiX0FVX...   \n",
            "4  https://news.google.com/rss/articles/CBMipwFBV...   \n",
            "\n",
            "                  Published Date  \n",
            "0  Wed, 19 Feb 2025 16:05:37 GMT  \n",
            "1  Wed, 19 Feb 2025 11:10:00 GMT  \n",
            "2  Thu, 20 Feb 2025 07:00:00 GMT  \n",
            "3  Thu, 20 Feb 2025 07:39:07 GMT  \n",
            "4  Wed, 19 Feb 2025 16:23:00 GMT  \n"
          ]
        }
      ]
    }
  ]
}